{
  "cells": [
    {
      "cell_type": "markdown",
      "metadata": {
        "id": "view-in-github",
        "colab_type": "text"
      },
      "source": [
        "<a href=\"https://colab.research.google.com/github/SharatKhote/Exploratory-Data-Analysis/blob/main/Project_Taxi_Time_Prediction.ipynb\" target=\"_parent\"><img src=\"https://colab.research.google.com/assets/colab-badge.svg\" alt=\"Open In Colab\"/></a>"
      ]
    },
    {
      "cell_type": "code",
      "execution_count": 1,
      "metadata": {
        "id": "pecCA3-CVJDY"
      },
      "outputs": [],
      "source": [
        "import pandas as pd\n",
        "import numpy as np\n",
        "import matplotlib.pyplot as plt\n",
        "import seaborn as sns\n",
        "from sklearn.preprocessing import MinMaxScaler, StandardScaler\n",
        "from sklearn.model_selection import train_test_split\n",
        "from sklearn.ensemble import RandomForestRegressor\n",
        "from sklearn.metrics import mean_squared_error, r2_score\n"
      ]
    },
    {
      "cell_type": "code",
      "execution_count": 2,
      "metadata": {
        "colab": {
          "base_uri": "https://localhost:8080/"
        },
        "id": "_17wJoY_Upee",
        "outputId": "6a0d6ee8-16e2-4f60-e758-d96a2ade649f"
      },
      "outputs": [
        {
          "output_type": "stream",
          "name": "stdout",
          "text": [
            "Drive already mounted at /content/drive; to attempt to forcibly remount, call drive.mount(\"/content/drive\", force_remount=True).\n"
          ]
        }
      ],
      "source": [
        "from google.colab import drive\n",
        "drive.mount('/content/drive')"
      ]
    },
    {
      "cell_type": "code",
      "execution_count": 3,
      "metadata": {
        "id": "1FYXpXSqVNSh"
      },
      "outputs": [],
      "source": [
        "df = pd.read_csv('/content/drive/MyDrive/NYC Taxi Data.csv')"
      ]
    },
    {
      "cell_type": "code",
      "execution_count": 4,
      "metadata": {
        "id": "JymLx32l131x",
        "colab": {
          "base_uri": "https://localhost:8080/"
        },
        "outputId": "e93bec76-0c22-47b1-fc28-4f123582d154"
      },
      "outputs": [
        {
          "output_type": "stream",
          "name": "stdout",
          "text": [
            "<class 'pandas.core.frame.DataFrame'>\n",
            "RangeIndex: 1458644 entries, 0 to 1458643\n",
            "Data columns (total 11 columns):\n",
            " #   Column              Non-Null Count    Dtype  \n",
            "---  ------              --------------    -----  \n",
            " 0   id                  1458644 non-null  object \n",
            " 1   vendor_id           1458644 non-null  int64  \n",
            " 2   pickup_datetime     1458644 non-null  object \n",
            " 3   dropoff_datetime    1458644 non-null  object \n",
            " 4   passenger_count     1458644 non-null  int64  \n",
            " 5   pickup_longitude    1458644 non-null  float64\n",
            " 6   pickup_latitude     1458644 non-null  float64\n",
            " 7   dropoff_longitude   1458644 non-null  float64\n",
            " 8   dropoff_latitude    1458644 non-null  float64\n",
            " 9   store_and_fwd_flag  1458644 non-null  object \n",
            " 10  trip_duration       1458644 non-null  int64  \n",
            "dtypes: float64(4), int64(3), object(4)\n",
            "memory usage: 122.4+ MB\n"
          ]
        }
      ],
      "source": [
        "df.info()"
      ]
    },
    {
      "cell_type": "markdown",
      "metadata": {
        "id": "NDkihKQ62xOM"
      },
      "source": [
        "Feature Creation\n",
        "\n",
        "Let us create some new features from the existing variables so that we can gain more insights from the data."
      ]
    },
    {
      "cell_type": "code",
      "execution_count": 5,
      "metadata": {
        "id": "89xfSmz117Ol"
      },
      "outputs": [],
      "source": [
        "# changing \"pickup_datetime\" and \"dropoff_datetime\" to datetime64[ns].\n",
        "df['pickup_datetime']=pd.to_datetime(df['pickup_datetime'])\n",
        "df['dropoff_datetime']=pd.to_datetime(df['dropoff_datetime'])"
      ]
    },
    {
      "cell_type": "markdown",
      "metadata": {
        "id": "BFjEGpHh3Qys"
      },
      "source": [
        "Now extracting and creating new features from this datetime features just created."
      ]
    },
    {
      "cell_type": "code",
      "execution_count": 6,
      "metadata": {
        "id": "Z8ARG0V32C_f"
      },
      "outputs": [],
      "source": [
        "df['pickup_day']=df['pickup_datetime'].dt.day_name()\n",
        "df['dropoff_day']=df['dropoff_datetime'].dt.day_name()"
      ]
    },
    {
      "cell_type": "code",
      "execution_count": 7,
      "metadata": {
        "id": "NB_H2Pe82Ya8"
      },
      "outputs": [],
      "source": [
        "df['pickup_day_no']=df['pickup_datetime'].dt.weekday\n",
        "df['dropoff_day_no']=df['dropoff_datetime'].dt.weekday"
      ]
    },
    {
      "cell_type": "code",
      "execution_count": 8,
      "metadata": {
        "id": "LJHLIxnV2fcT"
      },
      "outputs": [],
      "source": [
        "df['pickup_hour']=df['pickup_datetime'].dt.hour\n",
        "df['dropoff_hour']=df['dropoff_datetime'].dt.hour"
      ]
    },
    {
      "cell_type": "code",
      "execution_count": 9,
      "metadata": {
        "id": "fGHBhjbi2kb5"
      },
      "outputs": [],
      "source": [
        "df['pickup_month']=df['pickup_datetime'].dt.month\n",
        "df['dropoff_month']=df['dropoff_datetime'].dt.month"
      ]
    },
    {
      "cell_type": "markdown",
      "metadata": {
        "id": "KDuq5MaH3lCw"
      },
      "source": [
        "I have created the following features:\n",
        "\n",
        "    pickup_day and dropoff_day which will contain the name of the day on which the ride was taken.\n",
        "    pickup_day_no and dropoff_day_no which will contain the day number instead of characters with Monday=0 and Sunday=6.\n",
        "    pickup_hour and dropoff_hour with an hour of the day in the 24-hour format.\n",
        "    pickup_month and dropoff_month with month number with January=1 and December=12.\n",
        "\n",
        "Next, I have defined a function that lets us determine what time of the day the ride was taken. I have created 4 time zones ‘Morning’ (from 6:00 am to 11:59 pm), ‘Afternoon’ (from 12 noon to 3:59 pm), ‘Evening’ (from 4:00 pm to 9:59 pm), and ‘Late Night’ (from 10:00 pm to 5:59 am)"
      ]
    },
    {
      "cell_type": "code",
      "execution_count": 10,
      "metadata": {
        "id": "aC0Swbcy3pVw"
      },
      "outputs": [],
      "source": [
        "def time_of_day(x):\n",
        "    if x in range(6,12):\n",
        "        return 'Morning'\n",
        "    elif x in range(12,16):\n",
        "        return 'Afternoon'\n",
        "    elif x in range(16,22):\n",
        "        return 'Evening'\n",
        "    else:\n",
        "        return 'Late night'"
      ]
    },
    {
      "cell_type": "markdown",
      "metadata": {
        "id": "3a5PZa8Y3ufB"
      },
      "source": [
        "Now applying this function and create new columns in the dataset."
      ]
    },
    {
      "cell_type": "code",
      "execution_count": 11,
      "metadata": {
        "id": "O0aiec_m3zSp"
      },
      "outputs": [],
      "source": [
        "df['pickup_timeofday']=df['pickup_hour'].apply(time_of_day)\n",
        "df['dropoff_timeofday']=df['dropoff_hour'].apply(time_of_day)"
      ]
    },
    {
      "cell_type": "markdown",
      "metadata": {
        "id": "4Wynyct94Qxc"
      },
      "source": [
        "During dataset exploration I noticed that I have coordinates in the form of longitude and latitude for pickup and dropoff. But, we can’t really gather any insights or draw conclusions from that.\n",
        "So, the most obvious feature that we can extract from this is distance."
      ]
    },
    {
      "cell_type": "code",
      "execution_count": 12,
      "metadata": {
        "colab": {
          "base_uri": "https://localhost:8080/"
        },
        "id": "Sla4rpfDwYTx",
        "outputId": "83e7c092-c6ae-4488-a3dd-fff765c7bb8b"
      },
      "outputs": [
        {
          "output_type": "stream",
          "name": "stdout",
          "text": [
            "Looking in indexes: https://pypi.org/simple, https://us-python.pkg.dev/colab-wheels/public/simple/\n",
            "Requirement already satisfied: geopy in /usr/local/lib/python3.8/dist-packages (1.17.0)\n",
            "Requirement already satisfied: geographiclib<2,>=1.49 in /usr/local/lib/python3.8/dist-packages (from geopy) (1.52)\n"
          ]
        }
      ],
      "source": [
        "pip install geopy"
      ]
    },
    {
      "cell_type": "code",
      "execution_count": 13,
      "metadata": {
        "id": "EftaMApxaN_x"
      },
      "outputs": [],
      "source": [
        "# Importing the library which lets us calculate distance from geographical coordinates.\n",
        "from geopy.geocoders import Nominatim\n",
        "geolocator = Nominatim(user_agent=\"geoapiExercises\")"
      ]
    },
    {
      "cell_type": "code",
      "execution_count": 14,
      "metadata": {
        "id": "yXksY7q4aR9w"
      },
      "outputs": [],
      "source": [
        "# Defining a function to take coordinates as inputs and return us distance.\n",
        "from geopy.geocoders import Nominatim\n",
        "def locator(Latitude,Longitude):\n",
        "  geolocator = Nominatim(user_agent=\"geoapiExercises\")\n",
        "  location = geolocator.geocode(str(Latitude)+\",\"+str(Longitude))\n",
        "  \n",
        "  return location\n"
      ]
    },
    {
      "cell_type": "code",
      "execution_count": 15,
      "metadata": {
        "colab": {
          "base_uri": "https://localhost:8080/"
        },
        "id": "s5rd4RV4bne4",
        "outputId": "3a12b30c-44ce-44cb-f3a0-cd1685794a82"
      },
      "outputs": [
        {
          "output_type": "execute_result",
          "data": {
            "text/plain": [
              "-73.982201    633\n",
              "-73.982140    607\n",
              "-73.982101    587\n",
              "-73.982117    585\n",
              "-73.982224    584\n",
              "             ... \n",
              "-73.815033      1\n",
              "-73.882843      1\n",
              "-73.844650      1\n",
              "-73.854591      1\n",
              "-73.841316      1\n",
              "Name: pickup_longitude, Length: 23047, dtype: int64"
            ]
          },
          "metadata": {},
          "execution_count": 15
        }
      ],
      "source": [
        "df['pickup_longitude'].value_counts()"
      ]
    },
    {
      "cell_type": "code",
      "execution_count": 16,
      "metadata": {
        "id": "TmYI9iFyw6CS"
      },
      "outputs": [],
      "source": [
        "# Importing the library which lets us calculate distance from geographical coordinates.\n",
        "from geopy.distance import great_circle"
      ]
    },
    {
      "cell_type": "code",
      "execution_count": 17,
      "metadata": {
        "id": "StYuI6zjulwu"
      },
      "outputs": [],
      "source": [
        "# Defining a function to take coordinates as inputs and return us distance.\n",
        "def cal_distance(pickup_lat,pickup_long,dropoff_lat,dropoff_long):\n",
        " \n",
        " start_coordinates=(pickup_lat,pickup_long)\n",
        " stop_coordinates=(dropoff_lat,dropoff_long)\n",
        " \n",
        " return great_circle(start_coordinates,stop_coordinates).km"
      ]
    },
    {
      "cell_type": "code",
      "execution_count": 18,
      "metadata": {
        "id": "po7DcvyTdXqQ"
      },
      "outputs": [],
      "source": [
        "# Finally, applying the function to our dataset and creating the feature 'distance'.\n",
        "df['distance'] = df.apply(lambda x: cal_distance(x['pickup_latitude'],x['pickup_longitude'],x['dropoff_latitude'],x['dropoff_longitude'] ), axis=1)"
      ]
    },
    {
      "cell_type": "code",
      "execution_count": 19,
      "metadata": {
        "colab": {
          "base_uri": "https://localhost:8080/",
          "height": 386
        },
        "id": "uZIRSS1FYtQI",
        "outputId": "7f1d805c-6fbb-48a1-fa82-5c588981a05d"
      },
      "outputs": [
        {
          "output_type": "execute_result",
          "data": {
            "text/plain": [
              "          id  vendor_id     pickup_datetime    dropoff_datetime  \\\n",
              "0  id2875421          2 2016-03-14 17:24:55 2016-03-14 17:32:30   \n",
              "1  id2377394          1 2016-06-12 00:43:35 2016-06-12 00:54:38   \n",
              "2  id3858529          2 2016-01-19 11:35:24 2016-01-19 12:10:48   \n",
              "3  id3504673          2 2016-04-06 19:32:31 2016-04-06 19:39:40   \n",
              "4  id2181028          2 2016-03-26 13:30:55 2016-03-26 13:38:10   \n",
              "\n",
              "   passenger_count  pickup_longitude  pickup_latitude  dropoff_longitude  \\\n",
              "0                1        -73.982155        40.767937         -73.964630   \n",
              "1                1        -73.980415        40.738564         -73.999481   \n",
              "2                1        -73.979027        40.763939         -74.005333   \n",
              "3                1        -74.010040        40.719971         -74.012268   \n",
              "4                1        -73.973053        40.793209         -73.972923   \n",
              "\n",
              "   dropoff_latitude store_and_fwd_flag  ...  dropoff_day pickup_day_no  \\\n",
              "0         40.765602                  N  ...       Monday             0   \n",
              "1         40.731152                  N  ...       Sunday             6   \n",
              "2         40.710087                  N  ...      Tuesday             1   \n",
              "3         40.706718                  N  ...    Wednesday             2   \n",
              "4         40.782520                  N  ...     Saturday             5   \n",
              "\n",
              "  dropoff_day_no  pickup_hour  dropoff_hour  pickup_month  dropoff_month  \\\n",
              "0              0           17            17             3              3   \n",
              "1              6            0             0             6              6   \n",
              "2              1           11            12             1              1   \n",
              "3              2           19            19             4              4   \n",
              "4              5           13            13             3              3   \n",
              "\n",
              "   pickup_timeofday  dropoff_timeofday  distance  \n",
              "0           Evening            Evening  1.498523  \n",
              "1        Late night         Late night  1.805510  \n",
              "2           Morning          Afternoon  6.385108  \n",
              "3           Evening            Evening  1.485501  \n",
              "4         Afternoon          Afternoon  1.188590  \n",
              "\n",
              "[5 rows x 22 columns]"
            ],
            "text/html": [
              "\n",
              "  <div id=\"df-364489e4-6ffe-4836-b348-ba0387c379fc\">\n",
              "    <div class=\"colab-df-container\">\n",
              "      <div>\n",
              "<style scoped>\n",
              "    .dataframe tbody tr th:only-of-type {\n",
              "        vertical-align: middle;\n",
              "    }\n",
              "\n",
              "    .dataframe tbody tr th {\n",
              "        vertical-align: top;\n",
              "    }\n",
              "\n",
              "    .dataframe thead th {\n",
              "        text-align: right;\n",
              "    }\n",
              "</style>\n",
              "<table border=\"1\" class=\"dataframe\">\n",
              "  <thead>\n",
              "    <tr style=\"text-align: right;\">\n",
              "      <th></th>\n",
              "      <th>id</th>\n",
              "      <th>vendor_id</th>\n",
              "      <th>pickup_datetime</th>\n",
              "      <th>dropoff_datetime</th>\n",
              "      <th>passenger_count</th>\n",
              "      <th>pickup_longitude</th>\n",
              "      <th>pickup_latitude</th>\n",
              "      <th>dropoff_longitude</th>\n",
              "      <th>dropoff_latitude</th>\n",
              "      <th>store_and_fwd_flag</th>\n",
              "      <th>...</th>\n",
              "      <th>dropoff_day</th>\n",
              "      <th>pickup_day_no</th>\n",
              "      <th>dropoff_day_no</th>\n",
              "      <th>pickup_hour</th>\n",
              "      <th>dropoff_hour</th>\n",
              "      <th>pickup_month</th>\n",
              "      <th>dropoff_month</th>\n",
              "      <th>pickup_timeofday</th>\n",
              "      <th>dropoff_timeofday</th>\n",
              "      <th>distance</th>\n",
              "    </tr>\n",
              "  </thead>\n",
              "  <tbody>\n",
              "    <tr>\n",
              "      <th>0</th>\n",
              "      <td>id2875421</td>\n",
              "      <td>2</td>\n",
              "      <td>2016-03-14 17:24:55</td>\n",
              "      <td>2016-03-14 17:32:30</td>\n",
              "      <td>1</td>\n",
              "      <td>-73.982155</td>\n",
              "      <td>40.767937</td>\n",
              "      <td>-73.964630</td>\n",
              "      <td>40.765602</td>\n",
              "      <td>N</td>\n",
              "      <td>...</td>\n",
              "      <td>Monday</td>\n",
              "      <td>0</td>\n",
              "      <td>0</td>\n",
              "      <td>17</td>\n",
              "      <td>17</td>\n",
              "      <td>3</td>\n",
              "      <td>3</td>\n",
              "      <td>Evening</td>\n",
              "      <td>Evening</td>\n",
              "      <td>1.498523</td>\n",
              "    </tr>\n",
              "    <tr>\n",
              "      <th>1</th>\n",
              "      <td>id2377394</td>\n",
              "      <td>1</td>\n",
              "      <td>2016-06-12 00:43:35</td>\n",
              "      <td>2016-06-12 00:54:38</td>\n",
              "      <td>1</td>\n",
              "      <td>-73.980415</td>\n",
              "      <td>40.738564</td>\n",
              "      <td>-73.999481</td>\n",
              "      <td>40.731152</td>\n",
              "      <td>N</td>\n",
              "      <td>...</td>\n",
              "      <td>Sunday</td>\n",
              "      <td>6</td>\n",
              "      <td>6</td>\n",
              "      <td>0</td>\n",
              "      <td>0</td>\n",
              "      <td>6</td>\n",
              "      <td>6</td>\n",
              "      <td>Late night</td>\n",
              "      <td>Late night</td>\n",
              "      <td>1.805510</td>\n",
              "    </tr>\n",
              "    <tr>\n",
              "      <th>2</th>\n",
              "      <td>id3858529</td>\n",
              "      <td>2</td>\n",
              "      <td>2016-01-19 11:35:24</td>\n",
              "      <td>2016-01-19 12:10:48</td>\n",
              "      <td>1</td>\n",
              "      <td>-73.979027</td>\n",
              "      <td>40.763939</td>\n",
              "      <td>-74.005333</td>\n",
              "      <td>40.710087</td>\n",
              "      <td>N</td>\n",
              "      <td>...</td>\n",
              "      <td>Tuesday</td>\n",
              "      <td>1</td>\n",
              "      <td>1</td>\n",
              "      <td>11</td>\n",
              "      <td>12</td>\n",
              "      <td>1</td>\n",
              "      <td>1</td>\n",
              "      <td>Morning</td>\n",
              "      <td>Afternoon</td>\n",
              "      <td>6.385108</td>\n",
              "    </tr>\n",
              "    <tr>\n",
              "      <th>3</th>\n",
              "      <td>id3504673</td>\n",
              "      <td>2</td>\n",
              "      <td>2016-04-06 19:32:31</td>\n",
              "      <td>2016-04-06 19:39:40</td>\n",
              "      <td>1</td>\n",
              "      <td>-74.010040</td>\n",
              "      <td>40.719971</td>\n",
              "      <td>-74.012268</td>\n",
              "      <td>40.706718</td>\n",
              "      <td>N</td>\n",
              "      <td>...</td>\n",
              "      <td>Wednesday</td>\n",
              "      <td>2</td>\n",
              "      <td>2</td>\n",
              "      <td>19</td>\n",
              "      <td>19</td>\n",
              "      <td>4</td>\n",
              "      <td>4</td>\n",
              "      <td>Evening</td>\n",
              "      <td>Evening</td>\n",
              "      <td>1.485501</td>\n",
              "    </tr>\n",
              "    <tr>\n",
              "      <th>4</th>\n",
              "      <td>id2181028</td>\n",
              "      <td>2</td>\n",
              "      <td>2016-03-26 13:30:55</td>\n",
              "      <td>2016-03-26 13:38:10</td>\n",
              "      <td>1</td>\n",
              "      <td>-73.973053</td>\n",
              "      <td>40.793209</td>\n",
              "      <td>-73.972923</td>\n",
              "      <td>40.782520</td>\n",
              "      <td>N</td>\n",
              "      <td>...</td>\n",
              "      <td>Saturday</td>\n",
              "      <td>5</td>\n",
              "      <td>5</td>\n",
              "      <td>13</td>\n",
              "      <td>13</td>\n",
              "      <td>3</td>\n",
              "      <td>3</td>\n",
              "      <td>Afternoon</td>\n",
              "      <td>Afternoon</td>\n",
              "      <td>1.188590</td>\n",
              "    </tr>\n",
              "  </tbody>\n",
              "</table>\n",
              "<p>5 rows × 22 columns</p>\n",
              "</div>\n",
              "      <button class=\"colab-df-convert\" onclick=\"convertToInteractive('df-364489e4-6ffe-4836-b348-ba0387c379fc')\"\n",
              "              title=\"Convert this dataframe to an interactive table.\"\n",
              "              style=\"display:none;\">\n",
              "        \n",
              "  <svg xmlns=\"http://www.w3.org/2000/svg\" height=\"24px\"viewBox=\"0 0 24 24\"\n",
              "       width=\"24px\">\n",
              "    <path d=\"M0 0h24v24H0V0z\" fill=\"none\"/>\n",
              "    <path d=\"M18.56 5.44l.94 2.06.94-2.06 2.06-.94-2.06-.94-.94-2.06-.94 2.06-2.06.94zm-11 1L8.5 8.5l.94-2.06 2.06-.94-2.06-.94L8.5 2.5l-.94 2.06-2.06.94zm10 10l.94 2.06.94-2.06 2.06-.94-2.06-.94-.94-2.06-.94 2.06-2.06.94z\"/><path d=\"M17.41 7.96l-1.37-1.37c-.4-.4-.92-.59-1.43-.59-.52 0-1.04.2-1.43.59L10.3 9.45l-7.72 7.72c-.78.78-.78 2.05 0 2.83L4 21.41c.39.39.9.59 1.41.59.51 0 1.02-.2 1.41-.59l7.78-7.78 2.81-2.81c.8-.78.8-2.07 0-2.86zM5.41 20L4 18.59l7.72-7.72 1.47 1.35L5.41 20z\"/>\n",
              "  </svg>\n",
              "      </button>\n",
              "      \n",
              "  <style>\n",
              "    .colab-df-container {\n",
              "      display:flex;\n",
              "      flex-wrap:wrap;\n",
              "      gap: 12px;\n",
              "    }\n",
              "\n",
              "    .colab-df-convert {\n",
              "      background-color: #E8F0FE;\n",
              "      border: none;\n",
              "      border-radius: 50%;\n",
              "      cursor: pointer;\n",
              "      display: none;\n",
              "      fill: #1967D2;\n",
              "      height: 32px;\n",
              "      padding: 0 0 0 0;\n",
              "      width: 32px;\n",
              "    }\n",
              "\n",
              "    .colab-df-convert:hover {\n",
              "      background-color: #E2EBFA;\n",
              "      box-shadow: 0px 1px 2px rgba(60, 64, 67, 0.3), 0px 1px 3px 1px rgba(60, 64, 67, 0.15);\n",
              "      fill: #174EA6;\n",
              "    }\n",
              "\n",
              "    [theme=dark] .colab-df-convert {\n",
              "      background-color: #3B4455;\n",
              "      fill: #D2E3FC;\n",
              "    }\n",
              "\n",
              "    [theme=dark] .colab-df-convert:hover {\n",
              "      background-color: #434B5C;\n",
              "      box-shadow: 0px 1px 3px 1px rgba(0, 0, 0, 0.15);\n",
              "      filter: drop-shadow(0px 1px 2px rgba(0, 0, 0, 0.3));\n",
              "      fill: #FFFFFF;\n",
              "    }\n",
              "  </style>\n",
              "\n",
              "      <script>\n",
              "        const buttonEl =\n",
              "          document.querySelector('#df-364489e4-6ffe-4836-b348-ba0387c379fc button.colab-df-convert');\n",
              "        buttonEl.style.display =\n",
              "          google.colab.kernel.accessAllowed ? 'block' : 'none';\n",
              "\n",
              "        async function convertToInteractive(key) {\n",
              "          const element = document.querySelector('#df-364489e4-6ffe-4836-b348-ba0387c379fc');\n",
              "          const dataTable =\n",
              "            await google.colab.kernel.invokeFunction('convertToInteractive',\n",
              "                                                     [key], {});\n",
              "          if (!dataTable) return;\n",
              "\n",
              "          const docLinkHtml = 'Like what you see? Visit the ' +\n",
              "            '<a target=\"_blank\" href=https://colab.research.google.com/notebooks/data_table.ipynb>data table notebook</a>'\n",
              "            + ' to learn more about interactive tables.';\n",
              "          element.innerHTML = '';\n",
              "          dataTable['output_type'] = 'display_data';\n",
              "          await google.colab.output.renderOutput(dataTable, element);\n",
              "          const docLink = document.createElement('div');\n",
              "          docLink.innerHTML = docLinkHtml;\n",
              "          element.appendChild(docLink);\n",
              "        }\n",
              "      </script>\n",
              "    </div>\n",
              "  </div>\n",
              "  "
            ]
          },
          "metadata": {},
          "execution_count": 19
        }
      ],
      "source": [
        "df.head()"
      ]
    },
    {
      "cell_type": "code",
      "execution_count": 20,
      "metadata": {
        "colab": {
          "base_uri": "https://localhost:8080/",
          "height": 308
        },
        "id": "OlXM-86XZ8NW",
        "outputId": "19a63151-96ca-4d06-ebaa-059b997d3acb"
      },
      "outputs": [
        {
          "output_type": "execute_result",
          "data": {
            "text/plain": [
              "<matplotlib.axes._subplots.AxesSubplot at 0x7f639ffb5a90>"
            ]
          },
          "metadata": {},
          "execution_count": 20
        },
        {
          "output_type": "display_data",
          "data": {
            "text/plain": [
              "<Figure size 432x288 with 1 Axes>"
            ],
            "image/png": "[encoded data removed]"
          },
          "metadata": {
            "needs_background": "light"
          }
        }
      ],
      "source": [
        "sns.histplot(df['trip_duration'],kde=False,bins=20)"
      ]
    },
    {
      "cell_type": "code",
      "execution_count": 21,
      "metadata": {
        "colab": {
          "base_uri": "https://localhost:8080/",
          "height": 352
        },
        "id": "SgMEUyQrycOq",
        "outputId": "2dc19b1a-e5e5-473d-dc18-4e59eea0462d"
      },
      "outputs": [
        {
          "output_type": "stream",
          "name": "stderr",
          "text": [
            "/usr/local/lib/python3.8/dist-packages/seaborn/_decorators.py:36: FutureWarning: Pass the following variable as a keyword arg: x. From version 0.12, the only valid positional argument will be `data`, and passing other arguments without an explicit keyword will result in an error or misinterpretation.\n",
            "  warnings.warn(\n"
          ]
        },
        {
          "output_type": "execute_result",
          "data": {
            "text/plain": [
              "<matplotlib.axes._subplots.AxesSubplot at 0x7f639ffb50d0>"
            ]
          },
          "metadata": {},
          "execution_count": 21
        },
        {
          "output_type": "display_data",
          "data": {
            "text/plain": [
              "<Figure size 432x288 with 1 Axes>"
            ],
            "image/png": "[encoded data removed]"
          },
          "metadata": {
            "needs_background": "light"
          }
        }
      ],
      "source": [
        "sns.boxplot(df['trip_duration'])"
      ]
    },
    {
      "cell_type": "code",
      "execution_count": 22,
      "metadata": {
        "colab": {
          "base_uri": "https://localhost:8080/"
        },
        "id": "gOgd-cQmyjqC",
        "outputId": "c07ada22-8008-42bc-ff94-c703da0fd01d"
      },
      "outputs": [
        {
          "output_type": "execute_result",
          "data": {
            "text/plain": [
              "978383     3526282\n",
              "924150     2227612\n",
              "680594     2049578\n",
              "355003     1939736\n",
              "1234291      86392\n",
              "            ...   \n",
              "269418           1\n",
              "467645           1\n",
              "533799           1\n",
              "726971           1\n",
              "311745           1\n",
              "Name: trip_duration, Length: 1458644, dtype: int64"
            ]
          },
          "metadata": {},
          "execution_count": 22
        }
      ],
      "source": [
        "df['trip_duration'].sort_values(ascending=False)"
      ]
    },
    {
      "cell_type": "code",
      "execution_count": 23,
      "metadata": {
        "colab": {
          "base_uri": "https://localhost:8080/",
          "height": 297
        },
        "id": "EZHabP6yytfa",
        "outputId": "a436a27e-40ca-4d97-fa6d-0a37bef3c5f4"
      },
      "outputs": [
        {
          "output_type": "execute_result",
          "data": {
            "text/plain": [
              "<matplotlib.axes._subplots.AxesSubplot at 0x7f6379e87a00>"
            ]
          },
          "metadata": {},
          "execution_count": 23
        },
        {
          "output_type": "display_data",
          "data": {
            "text/plain": [
              "<Figure size 432x288 with 1 Axes>"
            ],
            "image/png": "[encoded data removed]"
          },
          "metadata": {
            "needs_background": "light"
          }
        }
      ],
      "source": [
        "sns.countplot(x='vendor_id',data=df)"
      ]
    },
    {
      "cell_type": "markdown",
      "metadata": {
        "id": "Ct01sIx-zNxx"
      },
      "source": [
        "**Passenger** **Count**\n",
        "\n",
        "\n"
      ]
    },
    {
      "cell_type": "code",
      "execution_count": 24,
      "metadata": {
        "colab": {
          "base_uri": "https://localhost:8080/"
        },
        "id": "X8XNj7JxzA67",
        "outputId": "9d2c598b-70a1-463a-a84d-a79d3ffdc7e1"
      },
      "outputs": [
        {
          "output_type": "execute_result",
          "data": {
            "text/plain": [
              "1    1033540\n",
              "2     210318\n",
              "5      78088\n",
              "3      59896\n",
              "6      48333\n",
              "4      28404\n",
              "0         60\n",
              "7          3\n",
              "9          1\n",
              "8          1\n",
              "Name: passenger_count, dtype: int64"
            ]
          },
          "metadata": {},
          "execution_count": 24
        }
      ],
      "source": [
        "df.passenger_count.value_counts()"
      ]
    },
    {
      "cell_type": "markdown",
      "metadata": {
        "id": "1TFDGEzrzfbX"
      },
      "source": [
        "passenger count\n",
        "\n",
        "    There are some trips with even 0 passenger count.\n",
        "    There is only 1 trip each for 8 and 9 passengers.\n",
        "    There is only 3 trip for 7 passengers.\n"
      ]
    },
    {
      "cell_type": "code",
      "execution_count": 25,
      "metadata": {
        "colab": {
          "base_uri": "https://localhost:8080/",
          "height": 308
        },
        "id": "6iapIntrzEHi",
        "outputId": "b7544b62-ac97-49a7-bf4f-4a6e85585794"
      },
      "outputs": [
        {
          "output_type": "execute_result",
          "data": {
            "text/plain": [
              "<matplotlib.axes._subplots.AxesSubplot at 0x7f637f594c70>"
            ]
          },
          "metadata": {},
          "execution_count": 25
        },
        {
          "output_type": "display_data",
          "data": {
            "text/plain": [
              "<Figure size 432x288 with 1 Axes>"
            ],
            "image/png": "[encoded data removed]"
          },
          "metadata": {
            "needs_background": "light"
          }
        }
      ],
      "source": [
        "sns.countplot(x='passenger_count',data=df)"
      ]
    },
    {
      "cell_type": "code",
      "execution_count": 26,
      "metadata": {
        "id": "peR8We0TzJci"
      },
      "outputs": [],
      "source": [
        "#We see the highest amount of trips are with 1 passenger.\n",
        "#Let us remove the rows which have 0 or 7 or 8 or 9 passenger count.\n",
        "\n",
        "df=df[df['passenger_count']!=0]\n",
        "df=df[df['passenger_count']<=6]"
      ]
    },
    {
      "cell_type": "code",
      "source": [],
      "metadata": {
        "id": "i5yHa-67qt9X"
      },
      "execution_count": 26,
      "outputs": []
    },
    {
      "cell_type": "code",
      "execution_count": 27,
      "metadata": {
        "colab": {
          "base_uri": "https://localhost:8080/"
        },
        "id": "RYE5NnF_zqdC",
        "outputId": "b88ccaed-a5d5-49b5-d322-824098e7a59d"
      },
      "outputs": [
        {
          "output_type": "execute_result",
          "data": {
            "text/plain": [
              "1    1033540\n",
              "2     210318\n",
              "5      78088\n",
              "3      59896\n",
              "6      48333\n",
              "4      28404\n",
              "Name: passenger_count, dtype: int64"
            ]
          },
          "metadata": {},
          "execution_count": 27
        }
      ],
      "source": [
        "df.passenger_count.value_counts()"
      ]
    },
    {
      "cell_type": "code",
      "execution_count": 28,
      "metadata": {
        "colab": {
          "base_uri": "https://localhost:8080/"
        },
        "id": "Wtil1F6i0PHz",
        "outputId": "14c71008-1877-4bcc-e94f-e4f6f92ad847"
      },
      "outputs": [
        {
          "output_type": "execute_result",
          "data": {
            "text/plain": [
              "N    0.994486\n",
              "Y    0.005514\n",
              "Name: store_and_fwd_flag, dtype: float64"
            ]
          },
          "metadata": {},
          "execution_count": 28
        }
      ],
      "source": [
        "df['store_and_fwd_flag'].value_counts(normalize=True)"
      ]
    },
    {
      "cell_type": "code",
      "execution_count": 29,
      "metadata": {
        "colab": {
          "base_uri": "https://localhost:8080/"
        },
        "id": "Hb-f0jMm0XHh",
        "outputId": "a39d7d81-eede-4c3a-89a1-3d69dba96a3b"
      },
      "outputs": [
        {
          "output_type": "execute_result",
          "data": {
            "text/plain": [
              "0.000000    5887\n",
              "0.000424      45\n",
              "0.000424      43\n",
              "0.000424      35\n",
              "0.000424      22\n",
              "            ... \n",
              "3.231345       1\n",
              "1.584861       1\n",
              "0.434274       1\n",
              "3.809274       1\n",
              "1.134044       1\n",
              "Name: distance, Length: 1452309, dtype: int64"
            ]
          },
          "metadata": {},
          "execution_count": 29
        }
      ],
      "source": [
        "df['distance'].value_counts()"
      ]
    },
    {
      "cell_type": "markdown",
      "metadata": {
        "id": "3juoZcDN1TVN"
      },
      "source": [
        "We see there are 5887 trips with 0 km distance.\n",
        "\n",
        "The reasons for 0 km distance can be:\n",
        "\n",
        "    The dropoff location couldn’t be tracked.\n",
        "    The driver deliberately took this ride to complete a target ride number.\n",
        "    The passengers canceled the trip.\n",
        "\n",
        "We will analyze these trips further in bivariate analysis."
      ]
    },
    {
      "cell_type": "code",
      "source": [
        "df.info()"
      ],
      "metadata": {
        "colab": {
          "base_uri": "https://localhost:8080/"
        },
        "id": "QpD1rqAmJDT3",
        "outputId": "34323f87-5547-4afc-ce73-afc77957a5e1"
      },
      "execution_count": 30,
      "outputs": [
        {
          "output_type": "stream",
          "name": "stdout",
          "text": [
            "<class 'pandas.core.frame.DataFrame'>\n",
            "Int64Index: 1458579 entries, 0 to 1458643\n",
            "Data columns (total 22 columns):\n",
            " #   Column              Non-Null Count    Dtype         \n",
            "---  ------              --------------    -----         \n",
            " 0   id                  1458579 non-null  object        \n",
            " 1   vendor_id           1458579 non-null  int64         \n",
            " 2   pickup_datetime     1458579 non-null  datetime64[ns]\n",
            " 3   dropoff_datetime    1458579 non-null  datetime64[ns]\n",
            " 4   passenger_count     1458579 non-null  int64         \n",
            " 5   pickup_longitude    1458579 non-null  float64       \n",
            " 6   pickup_latitude     1458579 non-null  float64       \n",
            " 7   dropoff_longitude   1458579 non-null  float64       \n",
            " 8   dropoff_latitude    1458579 non-null  float64       \n",
            " 9   store_and_fwd_flag  1458579 non-null  object        \n",
            " 10  trip_duration       1458579 non-null  int64         \n",
            " 11  pickup_day          1458579 non-null  object        \n",
            " 12  dropoff_day         1458579 non-null  object        \n",
            " 13  pickup_day_no       1458579 non-null  int64         \n",
            " 14  dropoff_day_no      1458579 non-null  int64         \n",
            " 15  pickup_hour         1458579 non-null  int64         \n",
            " 16  dropoff_hour        1458579 non-null  int64         \n",
            " 17  pickup_month        1458579 non-null  int64         \n",
            " 18  dropoff_month       1458579 non-null  int64         \n",
            " 19  pickup_timeofday    1458579 non-null  object        \n",
            " 20  dropoff_timeofday   1458579 non-null  object        \n",
            " 21  distance            1458579 non-null  float64       \n",
            "dtypes: datetime64[ns](2), float64(5), int64(9), object(6)\n",
            "memory usage: 255.9+ MB\n"
          ]
        }
      ]
    },
    {
      "cell_type": "markdown",
      "source": [
        "Creating two features of 'time in hour' and 'average speed in Kmph' beacause \"distance = speed * time\"."
      ],
      "metadata": {
        "id": "CQBxfWh0yPnF"
      }
    },
    {
      "cell_type": "code",
      "source": [
        "df['trip_duration_in_hour']=df['trip_duration'].apply(lambda x:x/3600)"
      ],
      "metadata": {
        "id": "I-fKsQ-NHBl7"
      },
      "execution_count": 31,
      "outputs": []
    },
    {
      "cell_type": "code",
      "source": [
        "df['avg_speed_kph']=df['distance']/df['trip_duration_in_hour']"
      ],
      "metadata": {
        "id": "l3QlSryOHFoR"
      },
      "execution_count": 32,
      "outputs": []
    },
    {
      "cell_type": "markdown",
      "metadata": {
        "id": "fUwN9f5059CY"
      },
      "source": [
        "**Trips per Day**"
      ]
    },
    {
      "cell_type": "code",
      "execution_count": 33,
      "metadata": {
        "colab": {
          "base_uri": "https://localhost:8080/",
          "height": 351
        },
        "id": "bgA8nhAx0brq",
        "outputId": "6b38eeea-dc3c-4cf7-bf42-95c3a217715b"
      },
      "outputs": [
        {
          "output_type": "display_data",
          "data": {
            "text/plain": [
              "<Figure size 1440x360 with 2 Axes>"
            ],
            "image/png": "[encoded data removed]"
          },
          "metadata": {
            "needs_background": "light"
          }
        }
      ],
      "source": [
        "figure,(ax1,ax2)=plt.subplots(ncols=2,figsize=(20,5))\n",
        "ax1.set_title('Pickup Days')\n",
        "ax=sns.countplot(x=\"pickup_day\",data=df,ax=ax1)\n",
        "ax2.set_title('Dropoff Days')\n",
        "ax=sns.countplot(x=\"dropoff_day\",data=df,ax=ax2)"
      ]
    },
    {
      "cell_type": "markdown",
      "metadata": {
        "id": "QYpxrcjX6N43"
      },
      "source": [
        "Trips per Hour"
      ]
    },
    {
      "cell_type": "code",
      "execution_count": 34,
      "metadata": {
        "colab": {
          "base_uri": "https://localhost:8080/",
          "height": 351
        },
        "id": "zUjyc8K65tt4",
        "outputId": "c9c99ff6-c608-4fca-e1da-2773e3795af7"
      },
      "outputs": [
        {
          "output_type": "display_data",
          "data": {
            "text/plain": [
              "<Figure size 1440x360 with 2 Axes>"
            ],
            "image/png": "[encoded data removed]"
          },
          "metadata": {
            "needs_background": "light"
          }
        }
      ],
      "source": [
        "figure,(ax9,ax10)=plt.subplots(ncols=2,figsize=(20,5))\n",
        "\n",
        "ax9.set_title('Pickup Days')\n",
        "ax=sns.countplot(x=\"pickup_hour\",data=df,ax=ax9)\n",
        "\n",
        "ax10.set_title('Dropoff Days')\n",
        "ax=sns.countplot(x=\"dropoff_hour\",data=df,ax=ax10)"
      ]
    },
    {
      "cell_type": "markdown",
      "metadata": {
        "id": "En-U8t9w6Y4c"
      },
      "source": [
        "Trips per Time of Day"
      ]
    },
    {
      "cell_type": "code",
      "execution_count": 35,
      "metadata": {
        "colab": {
          "base_uri": "https://localhost:8080/",
          "height": 351
        },
        "id": "e7E6Jnp46GPn",
        "outputId": "c512587b-60fb-40cd-e4ca-907df23827b5"
      },
      "outputs": [
        {
          "output_type": "display_data",
          "data": {
            "text/plain": [
              "<Figure size 1440x360 with 2 Axes>"
            ],
            "image/png": "[encoded data removed]"
          },
          "metadata": {
            "needs_background": "light"
          }
        }
      ],
      "source": [
        "figure,(ax3,ax4)=plt.subplots(ncols=2,figsize=(20,5))\n",
        "\n",
        "ax3.set_title('Pickup Time of Day')\n",
        "ax=sns.countplot(x=\"pickup_timeofday\",data=df,ax=ax3)\n",
        "\n",
        "ax4.set_title('Dropoff Time of Day')\n",
        "ax=sns.countplot(x=\"dropoff_timeofday\",data=df,ax=ax4)"
      ]
    },
    {
      "cell_type": "markdown",
      "metadata": {
        "id": "SvQka5cK6grC"
      },
      "source": [
        "Trips per month"
      ]
    },
    {
      "cell_type": "code",
      "execution_count": 36,
      "metadata": {
        "colab": {
          "base_uri": "https://localhost:8080/",
          "height": 351
        },
        "id": "hJvHYr7e6VFX",
        "outputId": "666e10eb-1c1d-4ead-eb97-14cae0fd3f00"
      },
      "outputs": [
        {
          "output_type": "display_data",
          "data": {
            "text/plain": [
              "<Figure size 1440x360 with 2 Axes>"
            ],
            "image/png": "[encoded data removed]"
          },
          "metadata": {
            "needs_background": "light"
          }
        }
      ],
      "source": [
        "figure,(ax11,ax12)=plt.subplots(ncols=2,figsize=(20,5))\n",
        "\n",
        "ax11.set_title('Pickup Month')\n",
        "ax=sns.countplot(x=\"pickup_month\",data=df,ax=ax11)\n",
        "\n",
        "ax12.set_title('Dropoff Month')\n",
        "ax=sns.countplot(x=\"dropoff_month\",data=df,ax=ax12)"
      ]
    },
    {
      "cell_type": "code",
      "execution_count": 37,
      "metadata": {
        "id": "3be24rsv6dyX",
        "colab": {
          "base_uri": "https://localhost:8080/",
          "height": 307
        },
        "outputId": "74d38ae2-660e-4091-fb90-d2b9c8cf0a75"
      },
      "outputs": [
        {
          "output_type": "execute_result",
          "data": {
            "text/plain": [
              "<matplotlib.axes._subplots.AxesSubplot at 0x7f6379ee8730>"
            ]
          },
          "metadata": {},
          "execution_count": 37
        },
        {
          "output_type": "display_data",
          "data": {
            "text/plain": [
              "<Figure size 432x288 with 1 Axes>"
            ],
            "image/png": "[encoded data removed]"
          },
          "metadata": {
            "needs_background": "light"
          }
        }
      ],
      "source": [
        "sns.scatterplot(x='distance',y='trip_duration',data=df)"
      ]
    },
    {
      "cell_type": "code",
      "execution_count": 38,
      "metadata": {
        "id": "RmzJONpcGEzu"
      },
      "outputs": [],
      "source": [
        "X = df.drop(columns=[\"trip_duration\"])"
      ]
    },
    {
      "cell_type": "code",
      "execution_count": 39,
      "metadata": {
        "colab": {
          "base_uri": "https://localhost:8080/",
          "height": 386
        },
        "id": "kWiR6WvnGExY",
        "outputId": "0015ce14-e09a-4b70-eab2-bd1fe00e56c3"
      },
      "outputs": [
        {
          "output_type": "execute_result",
          "data": {
            "text/plain": [
              "          id  vendor_id     pickup_datetime    dropoff_datetime  \\\n",
              "0  id2875421          2 2016-03-14 17:24:55 2016-03-14 17:32:30   \n",
              "1  id2377394          1 2016-06-12 00:43:35 2016-06-12 00:54:38   \n",
              "2  id3858529          2 2016-01-19 11:35:24 2016-01-19 12:10:48   \n",
              "3  id3504673          2 2016-04-06 19:32:31 2016-04-06 19:39:40   \n",
              "4  id2181028          2 2016-03-26 13:30:55 2016-03-26 13:38:10   \n",
              "\n",
              "   passenger_count  pickup_longitude  pickup_latitude  dropoff_longitude  \\\n",
              "0                1        -73.982155        40.767937         -73.964630   \n",
              "1                1        -73.980415        40.738564         -73.999481   \n",
              "2                1        -73.979027        40.763939         -74.005333   \n",
              "3                1        -74.010040        40.719971         -74.012268   \n",
              "4                1        -73.973053        40.793209         -73.972923   \n",
              "\n",
              "   dropoff_latitude store_and_fwd_flag  ... dropoff_day_no pickup_hour  \\\n",
              "0         40.765602                  N  ...              0          17   \n",
              "1         40.731152                  N  ...              6           0   \n",
              "2         40.710087                  N  ...              1          11   \n",
              "3         40.706718                  N  ...              2          19   \n",
              "4         40.782520                  N  ...              5          13   \n",
              "\n",
              "   dropoff_hour  pickup_month  dropoff_month  pickup_timeofday  \\\n",
              "0            17             3              3           Evening   \n",
              "1             0             6              6        Late night   \n",
              "2            12             1              1           Morning   \n",
              "3            19             4              4           Evening   \n",
              "4            13             3              3         Afternoon   \n",
              "\n",
              "   dropoff_timeofday  distance trip_duration_in_hour avg_speed_kph  \n",
              "0            Evening  1.498523              0.126389     11.856445  \n",
              "1         Late night  1.805510              0.184167      9.803673  \n",
              "2          Afternoon  6.385108              0.590000     10.822216  \n",
              "3            Evening  1.485501              0.119167     12.465739  \n",
              "4          Afternoon  1.188590              0.120833      9.836608  \n",
              "\n",
              "[5 rows x 23 columns]"
            ],
            "text/html": [
              "\n",
              "  <div id=\"df-55ffac55-81c8-488d-9e3f-6b0f78e5a91e\">\n",
              "    <div class=\"colab-df-container\">\n",
              "      <div>\n",
              "<style scoped>\n",
              "    .dataframe tbody tr th:only-of-type {\n",
              "        vertical-align: middle;\n",
              "    }\n",
              "\n",
              "    .dataframe tbody tr th {\n",
              "        vertical-align: top;\n",
              "    }\n",
              "\n",
              "    .dataframe thead th {\n",
              "        text-align: right;\n",
              "    }\n",
              "</style>\n",
              "<table border=\"1\" class=\"dataframe\">\n",
              "  <thead>\n",
              "    <tr style=\"text-align: right;\">\n",
              "      <th></th>\n",
              "      <th>id</th>\n",
              "      <th>vendor_id</th>\n",
              "      <th>pickup_datetime</th>\n",
              "      <th>dropoff_datetime</th>\n",
              "      <th>passenger_count</th>\n",
              "      <th>pickup_longitude</th>\n",
              "      <th>pickup_latitude</th>\n",
              "      <th>dropoff_longitude</th>\n",
              "      <th>dropoff_latitude</th>\n",
              "      <th>store_and_fwd_flag</th>\n",
              "      <th>...</th>\n",
              "      <th>dropoff_day_no</th>\n",
              "      <th>pickup_hour</th>\n",
              "      <th>dropoff_hour</th>\n",
              "      <th>pickup_month</th>\n",
              "      <th>dropoff_month</th>\n",
              "      <th>pickup_timeofday</th>\n",
              "      <th>dropoff_timeofday</th>\n",
              "      <th>distance</th>\n",
              "      <th>trip_duration_in_hour</th>\n",
              "      <th>avg_speed_kph</th>\n",
              "    </tr>\n",
              "  </thead>\n",
              "  <tbody>\n",
              "    <tr>\n",
              "      <th>0</th>\n",
              "      <td>id2875421</td>\n",
              "      <td>2</td>\n",
              "      <td>2016-03-14 17:24:55</td>\n",
              "      <td>2016-03-14 17:32:30</td>\n",
              "      <td>1</td>\n",
              "      <td>-73.982155</td>\n",
              "      <td>40.767937</td>\n",
              "      <td>-73.964630</td>\n",
              "      <td>40.765602</td>\n",
              "      <td>N</td>\n",
              "      <td>...</td>\n",
              "      <td>0</td>\n",
              "      <td>17</td>\n",
              "      <td>17</td>\n",
              "      <td>3</td>\n",
              "      <td>3</td>\n",
              "      <td>Evening</td>\n",
              "      <td>Evening</td>\n",
              "      <td>1.498523</td>\n",
              "      <td>0.126389</td>\n",
              "      <td>11.856445</td>\n",
              "    </tr>\n",
              "    <tr>\n",
              "      <th>1</th>\n",
              "      <td>id2377394</td>\n",
              "      <td>1</td>\n",
              "      <td>2016-06-12 00:43:35</td>\n",
              "      <td>2016-06-12 00:54:38</td>\n",
              "      <td>1</td>\n",
              "      <td>-73.980415</td>\n",
              "      <td>40.738564</td>\n",
              "      <td>-73.999481</td>\n",
              "      <td>40.731152</td>\n",
              "      <td>N</td>\n",
              "      <td>...</td>\n",
              "      <td>6</td>\n",
              "      <td>0</td>\n",
              "      <td>0</td>\n",
              "      <td>6</td>\n",
              "      <td>6</td>\n",
              "      <td>Late night</td>\n",
              "      <td>Late night</td>\n",
              "      <td>1.805510</td>\n",
              "      <td>0.184167</td>\n",
              "      <td>9.803673</td>\n",
              "    </tr>\n",
              "    <tr>\n",
              "      <th>2</th>\n",
              "      <td>id3858529</td>\n",
              "      <td>2</td>\n",
              "      <td>2016-01-19 11:35:24</td>\n",
              "      <td>2016-01-19 12:10:48</td>\n",
              "      <td>1</td>\n",
              "      <td>-73.979027</td>\n",
              "      <td>40.763939</td>\n",
              "      <td>-74.005333</td>\n",
              "      <td>40.710087</td>\n",
              "      <td>N</td>\n",
              "      <td>...</td>\n",
              "      <td>1</td>\n",
              "      <td>11</td>\n",
              "      <td>12</td>\n",
              "      <td>1</td>\n",
              "      <td>1</td>\n",
              "      <td>Morning</td>\n",
              "      <td>Afternoon</td>\n",
              "      <td>6.385108</td>\n",
              "      <td>0.590000</td>\n",
              "      <td>10.822216</td>\n",
              "    </tr>\n",
              "    <tr>\n",
              "      <th>3</th>\n",
              "      <td>id3504673</td>\n",
              "      <td>2</td>\n",
              "      <td>2016-04-06 19:32:31</td>\n",
              "      <td>2016-04-06 19:39:40</td>\n",
              "      <td>1</td>\n",
              "      <td>-74.010040</td>\n",
              "      <td>40.719971</td>\n",
              "      <td>-74.012268</td>\n",
              "      <td>40.706718</td>\n",
              "      <td>N</td>\n",
              "      <td>...</td>\n",
              "      <td>2</td>\n",
              "      <td>19</td>\n",
              "      <td>19</td>\n",
              "      <td>4</td>\n",
              "      <td>4</td>\n",
              "      <td>Evening</td>\n",
              "      <td>Evening</td>\n",
              "      <td>1.485501</td>\n",
              "      <td>0.119167</td>\n",
              "      <td>12.465739</td>\n",
              "    </tr>\n",
              "    <tr>\n",
              "      <th>4</th>\n",
              "      <td>id2181028</td>\n",
              "      <td>2</td>\n",
              "      <td>2016-03-26 13:30:55</td>\n",
              "      <td>2016-03-26 13:38:10</td>\n",
              "      <td>1</td>\n",
              "      <td>-73.973053</td>\n",
              "      <td>40.793209</td>\n",
              "      <td>-73.972923</td>\n",
              "      <td>40.782520</td>\n",
              "      <td>N</td>\n",
              "      <td>...</td>\n",
              "      <td>5</td>\n",
              "      <td>13</td>\n",
              "      <td>13</td>\n",
              "      <td>3</td>\n",
              "      <td>3</td>\n",
              "      <td>Afternoon</td>\n",
              "      <td>Afternoon</td>\n",
              "      <td>1.188590</td>\n",
              "      <td>0.120833</td>\n",
              "      <td>9.836608</td>\n",
              "    </tr>\n",
              "  </tbody>\n",
              "</table>\n",
              "<p>5 rows × 23 columns</p>\n",
              "</div>\n",
              "      <button class=\"colab-df-convert\" onclick=\"convertToInteractive('df-55ffac55-81c8-488d-9e3f-6b0f78e5a91e')\"\n",
              "              title=\"Convert this dataframe to an interactive table.\"\n",
              "              style=\"display:none;\">\n",
              "        \n",
              "  <svg xmlns=\"http://www.w3.org/2000/svg\" height=\"24px\"viewBox=\"0 0 24 24\"\n",
              "       width=\"24px\">\n",
              "    <path d=\"M0 0h24v24H0V0z\" fill=\"none\"/>\n",
              "    <path d=\"M18.56 5.44l.94 2.06.94-2.06 2.06-.94-2.06-.94-.94-2.06-.94 2.06-2.06.94zm-11 1L8.5 8.5l.94-2.06 2.06-.94-2.06-.94L8.5 2.5l-.94 2.06-2.06.94zm10 10l.94 2.06.94-2.06 2.06-.94-2.06-.94-.94-2.06-.94 2.06-2.06.94z\"/><path d=\"M17.41 7.96l-1.37-1.37c-.4-.4-.92-.59-1.43-.59-.52 0-1.04.2-1.43.59L10.3 9.45l-7.72 7.72c-.78.78-.78 2.05 0 2.83L4 21.41c.39.39.9.59 1.41.59.51 0 1.02-.2 1.41-.59l7.78-7.78 2.81-2.81c.8-.78.8-2.07 0-2.86zM5.41 20L4 18.59l7.72-7.72 1.47 1.35L5.41 20z\"/>\n",
              "  </svg>\n",
              "      </button>\n",
              "      \n",
              "  <style>\n",
              "    .colab-df-container {\n",
              "      display:flex;\n",
              "      flex-wrap:wrap;\n",
              "      gap: 12px;\n",
              "    }\n",
              "\n",
              "    .colab-df-convert {\n",
              "      background-color: #E8F0FE;\n",
              "      border: none;\n",
              "      border-radius: 50%;\n",
              "      cursor: pointer;\n",
              "      display: none;\n",
              "      fill: #1967D2;\n",
              "      height: 32px;\n",
              "      padding: 0 0 0 0;\n",
              "      width: 32px;\n",
              "    }\n",
              "\n",
              "    .colab-df-convert:hover {\n",
              "      background-color: #E2EBFA;\n",
              "      box-shadow: 0px 1px 2px rgba(60, 64, 67, 0.3), 0px 1px 3px 1px rgba(60, 64, 67, 0.15);\n",
              "      fill: #174EA6;\n",
              "    }\n",
              "\n",
              "    [theme=dark] .colab-df-convert {\n",
              "      background-color: #3B4455;\n",
              "      fill: #D2E3FC;\n",
              "    }\n",
              "\n",
              "    [theme=dark] .colab-df-convert:hover {\n",
              "      background-color: #434B5C;\n",
              "      box-shadow: 0px 1px 3px 1px rgba(0, 0, 0, 0.15);\n",
              "      filter: drop-shadow(0px 1px 2px rgba(0, 0, 0, 0.3));\n",
              "      fill: #FFFFFF;\n",
              "    }\n",
              "  </style>\n",
              "\n",
              "      <script>\n",
              "        const buttonEl =\n",
              "          document.querySelector('#df-55ffac55-81c8-488d-9e3f-6b0f78e5a91e button.colab-df-convert');\n",
              "        buttonEl.style.display =\n",
              "          google.colab.kernel.accessAllowed ? 'block' : 'none';\n",
              "\n",
              "        async function convertToInteractive(key) {\n",
              "          const element = document.querySelector('#df-55ffac55-81c8-488d-9e3f-6b0f78e5a91e');\n",
              "          const dataTable =\n",
              "            await google.colab.kernel.invokeFunction('convertToInteractive',\n",
              "                                                     [key], {});\n",
              "          if (!dataTable) return;\n",
              "\n",
              "          const docLinkHtml = 'Like what you see? Visit the ' +\n",
              "            '<a target=\"_blank\" href=https://colab.research.google.com/notebooks/data_table.ipynb>data table notebook</a>'\n",
              "            + ' to learn more about interactive tables.';\n",
              "          element.innerHTML = '';\n",
              "          dataTable['output_type'] = 'display_data';\n",
              "          await google.colab.output.renderOutput(dataTable, element);\n",
              "          const docLink = document.createElement('div');\n",
              "          docLink.innerHTML = docLinkHtml;\n",
              "          element.appendChild(docLink);\n",
              "        }\n",
              "      </script>\n",
              "    </div>\n",
              "  </div>\n",
              "  "
            ]
          },
          "metadata": {},
          "execution_count": 39
        }
      ],
      "source": [
        "X.head()"
      ]
    },
    {
      "cell_type": "code",
      "execution_count": 40,
      "metadata": {
        "colab": {
          "base_uri": "https://localhost:8080/"
        },
        "id": "dxQtT0m-HNy3",
        "outputId": "16f28909-678d-40c7-b712-774201bd1a83"
      },
      "outputs": [
        {
          "output_type": "stream",
          "name": "stdout",
          "text": [
            "<class 'pandas.core.frame.DataFrame'>\n",
            "Int64Index: 1458579 entries, 0 to 1458643\n",
            "Data columns (total 23 columns):\n",
            " #   Column                 Non-Null Count    Dtype         \n",
            "---  ------                 --------------    -----         \n",
            " 0   id                     1458579 non-null  object        \n",
            " 1   vendor_id              1458579 non-null  int64         \n",
            " 2   pickup_datetime        1458579 non-null  datetime64[ns]\n",
            " 3   dropoff_datetime       1458579 non-null  datetime64[ns]\n",
            " 4   passenger_count        1458579 non-null  int64         \n",
            " 5   pickup_longitude       1458579 non-null  float64       \n",
            " 6   pickup_latitude        1458579 non-null  float64       \n",
            " 7   dropoff_longitude      1458579 non-null  float64       \n",
            " 8   dropoff_latitude       1458579 non-null  float64       \n",
            " 9   store_and_fwd_flag     1458579 non-null  object        \n",
            " 10  pickup_day             1458579 non-null  object        \n",
            " 11  dropoff_day            1458579 non-null  object        \n",
            " 12  pickup_day_no          1458579 non-null  int64         \n",
            " 13  dropoff_day_no         1458579 non-null  int64         \n",
            " 14  pickup_hour            1458579 non-null  int64         \n",
            " 15  dropoff_hour           1458579 non-null  int64         \n",
            " 16  pickup_month           1458579 non-null  int64         \n",
            " 17  dropoff_month          1458579 non-null  int64         \n",
            " 18  pickup_timeofday       1458579 non-null  object        \n",
            " 19  dropoff_timeofday      1458579 non-null  object        \n",
            " 20  distance               1458579 non-null  float64       \n",
            " 21  trip_duration_in_hour  1458579 non-null  float64       \n",
            " 22  avg_speed_kph          1458579 non-null  float64       \n",
            "dtypes: datetime64[ns](2), float64(7), int64(8), object(6)\n",
            "memory usage: 267.1+ MB\n"
          ]
        }
      ],
      "source": [
        "X.info()"
      ]
    },
    {
      "cell_type": "code",
      "source": [
        " ## Correlation\n",
        "plt.figure(figsize=(15,8))\n",
        "correlation = df.corr()\n",
        "sns.heatmap(abs(correlation), annot=True, cmap='coolwarm')"
      ],
      "metadata": {
        "colab": {
          "base_uri": "https://localhost:8080/",
          "height": 600
        },
        "id": "NYrzqPkawAcE",
        "outputId": "ffdc59ff-e27d-4937-f87d-b596f2514790"
      },
      "execution_count": 58,
      "outputs": [
        {
          "output_type": "execute_result",
          "data": {
            "text/plain": [
              "<matplotlib.axes._subplots.AxesSubplot at 0x7f6379efe610>"
            ]
          },
          "metadata": {},
          "execution_count": 58
        },
        {
          "output_type": "display_data",
          "data": {
            "text/plain": [
              "<Figure size 1080x576 with 2 Axes>"
            ],
            "image/png": "[encoded data removed]"
          },
          "metadata": {
            "needs_background": "light"
          }
        }
      ]
    },
    {
      "cell_type": "code",
      "execution_count": 41,
      "metadata": {
        "id": "76mF5mojGEef"
      },
      "outputs": [],
      "source": [
        "y = df['trip_duration']"
      ]
    },
    {
      "cell_type": "code",
      "execution_count": 42,
      "metadata": {
        "id": "Z0ay_72vHp9l",
        "colab": {
          "base_uri": "https://localhost:8080/"
        },
        "outputId": "d7ae3fe9-393d-4ef0-80fb-ca7e061378b3"
      },
      "outputs": [
        {
          "output_type": "execute_result",
          "data": {
            "text/plain": [
              "Index(['id', 'store_and_fwd_flag', 'pickup_day', 'dropoff_day',\n",
              "       'pickup_timeofday', 'dropoff_timeofday'],\n",
              "      dtype='object')"
            ]
          },
          "metadata": {},
          "execution_count": 42
        }
      ],
      "source": [
        "# Creating list of catagorical columns\n",
        "categorical_columns = X.select_dtypes(include = 'object').columns\n",
        "categorical_columns"
      ]
    },
    {
      "cell_type": "code",
      "execution_count": 43,
      "metadata": {
        "id": "rRbygZQhH8Z3"
      },
      "outputs": [],
      "source": [
        "# Importing Encoder\n",
        "from sklearn import preprocessing\n",
        "le = preprocessing.LabelEncoder()"
      ]
    },
    {
      "cell_type": "code",
      "execution_count": 44,
      "metadata": {
        "id": "UYrHmeuXIES4"
      },
      "outputs": [],
      "source": [
        "# for converting our all object to integers or numeric value\n",
        "for i in categorical_columns:\n",
        "  X[i] = le.fit_transform(X[i])"
      ]
    },
    {
      "cell_type": "code",
      "execution_count": 45,
      "metadata": {
        "id": "MZ3LAcxwIgFg"
      },
      "outputs": [],
      "source": [
        "X = X.drop(columns=[\"id\"])"
      ]
    },
    {
      "cell_type": "code",
      "execution_count": 46,
      "metadata": {
        "colab": {
          "base_uri": "https://localhost:8080/"
        },
        "id": "-qzuQsS6JUx7",
        "outputId": "593902e0-ec67-4b6c-f5e4-7cc52f1c5732"
      },
      "outputs": [
        {
          "output_type": "stream",
          "name": "stdout",
          "text": [
            "<class 'pandas.core.frame.DataFrame'>\n",
            "Int64Index: 1458579 entries, 0 to 1458643\n",
            "Data columns (total 22 columns):\n",
            " #   Column                 Non-Null Count    Dtype         \n",
            "---  ------                 --------------    -----         \n",
            " 0   vendor_id              1458579 non-null  int64         \n",
            " 1   pickup_datetime        1458579 non-null  datetime64[ns]\n",
            " 2   dropoff_datetime       1458579 non-null  datetime64[ns]\n",
            " 3   passenger_count        1458579 non-null  int64         \n",
            " 4   pickup_longitude       1458579 non-null  float64       \n",
            " 5   pickup_latitude        1458579 non-null  float64       \n",
            " 6   dropoff_longitude      1458579 non-null  float64       \n",
            " 7   dropoff_latitude       1458579 non-null  float64       \n",
            " 8   store_and_fwd_flag     1458579 non-null  int64         \n",
            " 9   pickup_day             1458579 non-null  int64         \n",
            " 10  dropoff_day            1458579 non-null  int64         \n",
            " 11  pickup_day_no          1458579 non-null  int64         \n",
            " 12  dropoff_day_no         1458579 non-null  int64         \n",
            " 13  pickup_hour            1458579 non-null  int64         \n",
            " 14  dropoff_hour           1458579 non-null  int64         \n",
            " 15  pickup_month           1458579 non-null  int64         \n",
            " 16  dropoff_month          1458579 non-null  int64         \n",
            " 17  pickup_timeofday       1458579 non-null  int64         \n",
            " 18  dropoff_timeofday      1458579 non-null  int64         \n",
            " 19  distance               1458579 non-null  float64       \n",
            " 20  trip_duration_in_hour  1458579 non-null  float64       \n",
            " 21  avg_speed_kph          1458579 non-null  float64       \n",
            "dtypes: datetime64[ns](2), float64(7), int64(13)\n",
            "memory usage: 255.9 MB\n"
          ]
        }
      ],
      "source": [
        "X.info()"
      ]
    },
    {
      "cell_type": "markdown",
      "source": [
        "Deleting 'pickup_datetime' and 'dropoff_datetime' feature from X bacause they are type of datetime."
      ],
      "metadata": {
        "id": "RtjxXNQeyilC"
      }
    },
    {
      "cell_type": "code",
      "execution_count": 47,
      "metadata": {
        "id": "OpPs4jAKPBwP"
      },
      "outputs": [],
      "source": [
        "X = X.drop(columns=['pickup_datetime','dropoff_datetime'])"
      ]
    },
    {
      "cell_type": "code",
      "execution_count": 48,
      "metadata": {
        "colab": {
          "base_uri": "https://localhost:8080/"
        },
        "id": "9Pu3lJ8kSzfd",
        "outputId": "5297b16a-cc05-44bd-da59-63c4f64b19ab"
      },
      "outputs": [
        {
          "output_type": "execute_result",
          "data": {
            "text/plain": [
              "0    1450537\n",
              "1       8042\n",
              "Name: store_and_fwd_flag, dtype: int64"
            ]
          },
          "metadata": {},
          "execution_count": 48
        }
      ],
      "source": [
        "X['store_and_fwd_flag'].value_counts()"
      ]
    },
    {
      "cell_type": "markdown",
      "source": [
        "Since \"store_and_fwd_flag\" column has very few value of 1 as compared to 0 so we can remove this column."
      ],
      "metadata": {
        "id": "-wplMqDwwrQk"
      }
    },
    {
      "cell_type": "code",
      "execution_count": 49,
      "metadata": {
        "id": "fxBOYZbQTdm2"
      },
      "outputs": [],
      "source": [
        "X = X.drop(columns=['store_and_fwd_flag'])"
      ]
    },
    {
      "cell_type": "code",
      "execution_count": 50,
      "metadata": {
        "colab": {
          "base_uri": "https://localhost:8080/"
        },
        "id": "0IUeA8mkTofh",
        "outputId": "146e4532-5fe2-48d0-a01f-6bb6a0a9c052"
      },
      "outputs": [
        {
          "output_type": "stream",
          "name": "stdout",
          "text": [
            "<class 'pandas.core.frame.DataFrame'>\n",
            "Int64Index: 1458579 entries, 0 to 1458643\n",
            "Data columns (total 19 columns):\n",
            " #   Column                 Non-Null Count    Dtype  \n",
            "---  ------                 --------------    -----  \n",
            " 0   vendor_id              1458579 non-null  int64  \n",
            " 1   passenger_count        1458579 non-null  int64  \n",
            " 2   pickup_longitude       1458579 non-null  float64\n",
            " 3   pickup_latitude        1458579 non-null  float64\n",
            " 4   dropoff_longitude      1458579 non-null  float64\n",
            " 5   dropoff_latitude       1458579 non-null  float64\n",
            " 6   pickup_day             1458579 non-null  int64  \n",
            " 7   dropoff_day            1458579 non-null  int64  \n",
            " 8   pickup_day_no          1458579 non-null  int64  \n",
            " 9   dropoff_day_no         1458579 non-null  int64  \n",
            " 10  pickup_hour            1458579 non-null  int64  \n",
            " 11  dropoff_hour           1458579 non-null  int64  \n",
            " 12  pickup_month           1458579 non-null  int64  \n",
            " 13  dropoff_month          1458579 non-null  int64  \n",
            " 14  pickup_timeofday       1458579 non-null  int64  \n",
            " 15  dropoff_timeofday      1458579 non-null  int64  \n",
            " 16  distance               1458579 non-null  float64\n",
            " 17  trip_duration_in_hour  1458579 non-null  float64\n",
            " 18  avg_speed_kph          1458579 non-null  float64\n",
            "dtypes: float64(7), int64(12)\n",
            "memory usage: 222.6 MB\n"
          ]
        }
      ],
      "source": [
        "X.info()"
      ]
    },
    {
      "cell_type": "code",
      "source": [
        "X = X.drop(columns=['pickup_day','dropoff_day','dropoff_day_no','pickup_day_no','dropoff_hour','dropoff_month','dropoff_timeofday'])"
      ],
      "metadata": {
        "id": "Q0HLRuU19-bI"
      },
      "execution_count": 51,
      "outputs": []
    },
    {
      "cell_type": "code",
      "execution_count": 52,
      "metadata": {
        "id": "nWYPpraxGW7_"
      },
      "outputs": [],
      "source": [
        "# Splitting the dataset into the Training set and Test set\n",
        "X_train, X_test, y_train, y_test = train_test_split(X, y, test_size = 0.2, random_state = 0)"
      ]
    },
    {
      "cell_type": "code",
      "source": [
        "rforest = RandomForestRegressor(n_estimators = 20, n_jobs = -1, random_state=42)"
      ],
      "metadata": {
        "id": "lsnspEm1e5rL"
      },
      "execution_count": 53,
      "outputs": []
    },
    {
      "cell_type": "code",
      "source": [
        "rforest = rforest.fit(X_train,y_train)\n",
        "print(rforest)"
      ],
      "metadata": {
        "colab": {
          "base_uri": "https://localhost:8080/"
        },
        "id": "V1oiOl_re7Yt",
        "outputId": "5991b820-2891-47b7-dc16-9e3389a6c0aa"
      },
      "execution_count": 54,
      "outputs": [
        {
          "output_type": "stream",
          "name": "stdout",
          "text": [
            "RandomForestRegressor(n_estimators=20, n_jobs=-1, random_state=42)\n"
          ]
        }
      ]
    },
    {
      "cell_type": "code",
      "source": [
        "# Predict\n",
        "y_pred_rforest = rforest.predict(X_test)"
      ],
      "metadata": {
        "id": "Pryz7vnwgdPX"
      },
      "execution_count": 55,
      "outputs": []
    },
    {
      "cell_type": "code",
      "source": [
        "# Score It\n",
        "from sklearn import metrics\n",
        "print('\\nRandom Forest Regression Performance Metrics')\n",
        "print('R^2 =',metrics.explained_variance_score(y_test,y_pred_rforest))\n",
        "print('MAE',metrics.mean_absolute_error(y_test, y_pred_rforest))\n",
        "print('MSE',metrics.mean_squared_error(y_test, y_pred_rforest))\n",
        "print('RMSE',np.sqrt(metrics.mean_squared_error(y_test, y_pred_rforest)))"
      ],
      "metadata": {
        "colab": {
          "base_uri": "https://localhost:8080/"
        },
        "id": "zSgyynsggjjD",
        "outputId": "39418c63-f94d-4376-9760-2b41ab952d25"
      },
      "execution_count": 56,
      "outputs": [
        {
          "output_type": "stream",
          "name": "stdout",
          "text": [
            "\n",
            "Random Forest Regression Performance Metrics\n",
            "R^2 = 0.9999973352992069\n",
            "MAE 0.047495852130154455\n",
            "MSE 26.077530680524983\n",
            "RMSE 5.106616363163086\n"
          ]
        }
      ]
    },
    {
      "cell_type": "code",
      "source": [
        "print(y_pred_rforest)"
      ],
      "metadata": {
        "colab": {
          "base_uri": "https://localhost:8080/"
        },
        "id": "IYAufMZQKuPq",
        "outputId": "1d955aeb-e04d-4fe9-f311-ab07ca87fbab"
      },
      "execution_count": 57,
      "outputs": [
        {
          "output_type": "stream",
          "name": "stdout",
          "text": [
            "[4965.4  382.   425.  ... 1813.  2267.   434. ]\n"
          ]
        }
      ]
    },
    {
      "cell_type": "code",
      "source": [],
      "metadata": {
        "id": "K_R2msDFKxhI"
      },
      "execution_count": 57,
      "outputs": []
    }
  ],
  "metadata": {
    "colab": {
      "provenance": [],
      "mount_file_id": "1JrwWyhrnnE9V9rZqekY5mDwPQIaCOP3E",
      "authorship_tag": "ABX9TyOZxutZmYgc26Qit+ZcWx3f",
      "include_colab_link": true
    },
    "kernelspec": {
      "display_name": "Python 3",
      "name": "python3"
    },
    "language_info": {
      "name": "python"
    }
  },
  "nbformat": 4,
  "nbformat_minor": 0
}